{
 "cells": [
  {
   "cell_type": "code",
   "execution_count": null,
   "metadata": {},
   "outputs": [],
   "source": [
    "# Write your code below: \n",
    "#Defining a function to convert farenheit to celsius\n",
    "def f_to_c(f_temp):\n",
    "  c_temp = (f_temp - 32) * 5/9\n",
    "  return c_temp \n",
    "#Defining a function to convert celsius to farenheit\n",
    "def c_to_f(c_temp):\n",
    "  f_temp = c_temp * (9/5) + 32\n",
    "  return f_temp\n",
    "\n",
    "#testing code, hashed out    \n",
    "#f100_in_celsius = f_to_c(100)\n",
    "#print(f100_in_celsius)\n",
    "#c0_in_farenheit = c_to_f(0)\n",
    "#print(c0_in_farenheit)\n"
   ]
  },
  {
   "cell_type": "code",
   "execution_count": null,
   "metadata": {},
   "outputs": [],
   "source": [
    "train_mass = 22680\n",
    "train_acceleration = 10\n",
    "train_distance = 100\n",
    "bomb_mass = 1\n",
    "#defining a func to multiply mass and acceleration\n",
    "def get_force(mass, acceleration):\n",
    "  train_force = mass * acceleration\n",
    "  return train_force\n",
    "#setting train force variable\n",
    "train_force = get_force(train_mass, train_acceleration)\n",
    "#string for funsies\n",
    "print(\"The GE train supplies \" + str(train_force) + \" Newtons of force.\")\n",
    "#Get energy function\n",
    "def get_energy(mass, c=3*10**8):\n",
    "  energy = mass * c**2 #mass times c(constant for 3 times 10 to the 8th)\n",
    "  return energy\n",
    "#Energy calculation for a bomb with a mass of 1\n",
    "bomb_energy = get_energy(1)\n",
    "#printing puts the fun in function\n",
    "print(\"A 1kg bomb supplies \" + str(bomb_energy) + \" Joules\")\n",
    "#work function\n",
    "def get_work(mass, acceleration, distance):\n",
    "  force = get_force(mass, acceleration) #using get_force to get...force\n",
    "  distance = train_distance #calculating work\n",
    "  work = force * distance\n",
    "  return work\n",
    "work = get_work(train_mass, train_acceleration, train_distance)\n",
    "#theyre really PRESSING these PRINTS huh?!\n",
    "print(\"The GE train does X Joules of work over Y meters.\")"
   ]
  }
 ],
 "metadata": {
  "language_info": {
   "name": "python"
  },
  "orig_nbformat": 4
 },
 "nbformat": 4,
 "nbformat_minor": 2
}
